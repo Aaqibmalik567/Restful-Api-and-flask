{
  "nbformat": 4,
  "nbformat_minor": 0,
  "metadata": {
    "colab": {
      "provenance": []
    },
    "kernelspec": {
      "name": "python3",
      "display_name": "Python 3"
    },
    "language_info": {
      "name": "python"
    }
  },
  "cells": [
    {
      "cell_type": "markdown",
      "source": [
        "# 1. What is a RESTful API?\n",
        "# Answer:\n",
        "# A RESTful API is an interface that follows REST architecture principles and allows communication\n",
        "# between client and server using HTTP methods like GET, POST, PUT, DELETE.\n",
        "\n",
        "# 2. Explain the concept of API specification\n",
        "# Answer:\n",
        "# An API specification defines how an API behaves — including endpoints, request/response formats,\n",
        "# authentication, parameters, and status codes. Examples include Swagger and OpenAPI.\n",
        "\n",
        "# 3. What is Flask, and why is it popular for building APIs?\n",
        "# Answer:\n",
        "# Flask is a lightweight Python web framework. It’s popular for its simplicity, flexibility, and\n",
        "# ease of use in creating RESTful APIs with extensions like Flask-RESTful.\n",
        "\n",
        "# 4. What is routing in Flask?\n",
        "# Answer:\n",
        "# Routing in Flask is the process of mapping URLs to functions using decorators like @app.route().\n",
        "\n",
        "# 5. How do you create a simple Flask application?\n",
        "# Answer:\n",
        "# Import Flask, create an app instance, define a route, and run the app:\n",
        "# from flask import Flask\n",
        "# app = Flask(__name__)\n",
        "# @app.route('/')\n",
        "# def home():\n",
        "#     return \"Hello, Flask!\"\n",
        "# app.run()\n",
        "\n",
        "# 6. What are HTTP methods used in RESTful APIs?\n",
        "# Answer:\n",
        "# Common HTTP methods include:\n",
        "# GET – Retrieve data,\n",
        "# POST – Create data,\n",
        "# PUT – Update data,\n",
        "# DELETE – Remove data,\n",
        "# PATCH – Partially update data.\n",
        "\n",
        "# 7. What is the purpose of the @app.route() decorator in Flask?\n",
        "# Answer:\n",
        "# It binds a specific URL path to a function, allowing Flask to call the function when that route is accessed.\n",
        "\n",
        "# 8. What is the difference between GET and POST HTTP methods?\n",
        "# Answer:\n",
        "# GET sends data through URL and is used for retrieval.\n",
        "# POST sends data in the request body and is used for creating/updating data.\n",
        "\n",
        "# 9. How do you handle errors in Flask APIs?\n",
        "# Answer:\n",
        "# Use @app.errorhandler(status_code) to define custom error responses like 404 or 500.\n",
        "\n",
        "# 10. How do you connect Flask to a SQL database?\n",
        "# Answer:\n",
        "# Use Flask-SQLAlchemy to connect to SQL databases with ORM support.\n",
        "\n",
        "# 11. What is the role of Flask-SQLAlchemy?\n",
        "# Answer:\n",
        "# It provides ORM features that let you interact with the database using Python classes and objects.\n",
        "\n",
        "# 12. What are Flask blueprints, and how are they useful?\n",
        "# Answer:\n",
        "# Blueprints allow modular code organization in Flask. They group related views and routes for better structure.\n",
        "\n",
        "# 13. What is the purpose of Flask's request object?\n",
        "# Answer:\n",
        "# The request object provides access to data sent by the client such as form input, JSON, headers, etc.\n",
        "\n",
        "# 14. How do you create a RESTful API endpoint using Flask?\n",
        "# Answer:\n",
        "# Define a route using @app.route(), set HTTP method, and return a response (often in JSON format).\n",
        "\n",
        "# 15. What is the purpose of Flask's jsonify() function?\n",
        "# Answer:\n",
        "# It converts Python data structures (like dicts) into JSON responses with proper headers.\n",
        "\n",
        "# 16. Explain Flask’s url_for() function\n",
        "# Answer:\n",
        "# url_for() dynamically generates URLs using the function name of the route, useful for linking and redirects.\n",
        "\n",
        "# 17. How does Flask handle static files (CSS, JavaScript, etc.)?\n",
        "# Answer:\n",
        "# Flask serves files from the /static/ directory by default. Example: <img src=\"/static/image.png\">\n",
        "\n",
        "# 18. What is an API specification, and how does it help in building a Flask API?\n",
        "# Answer:\n",
        "# It defines what the API does, which endpoints exist, request/response formats, and helps in collaboration and documentation.\n",
        "\n",
        "# 19. What are HTTP status codes, and why are they important in a Flask API?\n",
        "# Answer:\n",
        "# Status codes indicate the outcome of a request. Examples: 200 (OK), 404 (Not Found), 500 (Error).\n",
        "\n",
        "# 20. How do you handle POST requests in Flask?\n",
        "# Answer:\n",
        "# Use methods=['POST'] in @app.route(), then access form or JSON data via request.form or request.get_json().\n",
        "\n",
        "# 21. How would you secure a Flask API?\n",
        "# Answer:\n",
        "# Use HTTPS, token-based authentication, input validation, and rate limiting to secure the API.\n",
        "\n",
        "# 22. What is the significance of the Flask-RESTful extension?\n",
        "# Answer:\n",
        "# Flask-RESTful provides tools to build REST APIs easily, with features like input parsing and better response formatting.\n",
        "\n",
        "# 23. What is the role of Flask’s session object?\n",
        "# Answer:\n",
        "# session stores user-specific data (like login state) across multiple requests using secure cookies.\n"
      ],
      "metadata": {
        "id": "Xx9sezjSKq_X"
      }
    },
    {
      "cell_type": "markdown",
      "source": [
        "#Practical questions\n"
      ],
      "metadata": {
        "id": "S1zVUMQBeUab"
      }
    },
    {
      "cell_type": "code",
      "source": [
        "# 1. How do you create a basic Flask application?\n",
        "# Answer:\n",
        "# In Colab, we simulate it without running the server.\n",
        "from flask import Flask\n",
        "\n",
        "app = Flask(__name__)\n",
        "\n",
        "def home():\n",
        "    return \"Hello, Flask!\"\n",
        "\n",
        "# Output\n",
        "home()\n"
      ],
      "metadata": {
        "colab": {
          "base_uri": "https://localhost:8080/",
          "height": 35
        },
        "id": "3PivJY6OgWsf",
        "outputId": "355c2461-84e1-476d-8588-1eac855efcc3"
      },
      "execution_count": 29,
      "outputs": [
        {
          "output_type": "execute_result",
          "data": {
            "text/plain": [
              "'Hello, Flask!'"
            ],
            "application/vnd.google.colaboratory.intrinsic+json": {
              "type": "string"
            }
          },
          "metadata": {},
          "execution_count": 29
        }
      ]
    },
    {
      "cell_type": "code",
      "source": [
        "# 2. How do you serve static files like images or CSS in Flask?\n",
        "# Answer:\n",
        "# Flask serves from /static. Here we simulate a URL generation.\n",
        "\n",
        "from flask import url_for\n",
        "\n",
        "app = Flask(__name__)\n",
        "\n",
        "with app.test_request_context():\n",
        "    url_for('static', filename='style.css')\n"
      ],
      "metadata": {
        "id": "kfMdN3zQgbJy"
      },
      "execution_count": 30,
      "outputs": []
    },
    {
      "cell_type": "code",
      "source": [
        "# 3. How do you define different routes with different HTTP methods in Flask?\n",
        "# Answer:\n",
        "# We simulate the logic of GET and POST in a function.\n",
        "\n",
        "def handle_method(method='GET'):\n",
        "    if method == 'POST':\n",
        "        return 'POST request handled'\n",
        "    return 'GET request handled'\n",
        "\n",
        "# Output\n",
        "print(handle_method('GET'))\n",
        "print(handle_method('POST'))\n"
      ],
      "metadata": {
        "colab": {
          "base_uri": "https://localhost:8080/"
        },
        "id": "lhdPHDShgdvu",
        "outputId": "eafd03e6-6323-4d79-f482-57f858fbd9f3"
      },
      "execution_count": 31,
      "outputs": [
        {
          "output_type": "stream",
          "name": "stdout",
          "text": [
            "GET request handled\n",
            "POST request handled\n"
          ]
        }
      ]
    },
    {
      "cell_type": "code",
      "source": [
        "# 4. How do you render HTML templates in Flask?\n",
        "# Answer:\n",
        "# In Colab we can simulate a render output.\n",
        "\n",
        "def render_template_sim():\n",
        "    return \"<h1>Hello from Template</h1>\"\n",
        "\n",
        "render_template_sim()\n",
        "# 4. How do you render HTML templates in Flask?\n",
        "# Answer:\n",
        "# In Colab we can simulate a render output.\n",
        "\n",
        "def render_template_sim():\n",
        "    return \"<h1>Hello from Template</h1>\"\n",
        "\n",
        "render_template_sim()\n"
      ],
      "metadata": {
        "colab": {
          "base_uri": "https://localhost:8080/",
          "height": 35
        },
        "id": "CFe7cqmsgjzr",
        "outputId": "0433edab-2a83-4a6e-8c1a-1fdbf75ec02f"
      },
      "execution_count": 32,
      "outputs": [
        {
          "output_type": "execute_result",
          "data": {
            "text/plain": [
              "'<h1>Hello from Template</h1>'"
            ],
            "application/vnd.google.colaboratory.intrinsic+json": {
              "type": "string"
            }
          },
          "metadata": {},
          "execution_count": 32
        }
      ]
    },
    {
      "cell_type": "code",
      "source": [
        "# 5. How can you generate URLs for routes in Flask using url_for?\n",
        "from flask import url_for\n",
        "\n",
        "app = Flask(__name__)\n",
        "\n",
        "@app.route('/user/<username>')\n",
        "def profile(username):\n",
        "    return f\"User: {username}\"\n",
        "\n",
        "# Simulating URL generation\n",
        "with app.test_request_context():\n",
        "    url_for('profile', username='aaqib')\n"
      ],
      "metadata": {
        "id": "Ir-2L4ySglTq"
      },
      "execution_count": 33,
      "outputs": []
    },
    {
      "cell_type": "code",
      "source": [
        "# 6. How do you handle forms in Flask?\n",
        "# Answer:\n",
        "# Simulate form submission logic\n",
        "\n",
        "def submit_form(name):\n",
        "    return f\"Submitted Name: {name}\"\n",
        "\n",
        "submit_form(\"Aaqib\")\n"
      ],
      "metadata": {
        "colab": {
          "base_uri": "https://localhost:8080/",
          "height": 35
        },
        "id": "-fNv2VOigo5D",
        "outputId": "37133f1f-40b6-449a-90e3-775bd368e6ef"
      },
      "execution_count": 34,
      "outputs": [
        {
          "output_type": "execute_result",
          "data": {
            "text/plain": [
              "'Submitted Name: Aaqib'"
            ],
            "application/vnd.google.colaboratory.intrinsic+json": {
              "type": "string"
            }
          },
          "metadata": {},
          "execution_count": 34
        }
      ]
    },
    {
      "cell_type": "code",
      "source": [
        "# 7. How can you validate form data in Flask?\n",
        "# Answer:\n",
        "# Check if field is empty\n",
        "\n",
        "def validate_form(name):\n",
        "    if not name:\n",
        "        return \"Error: Name required\"\n",
        "    return f\"Welcome {name}\"\n",
        "\n",
        "print(validate_form(\"Aaqib\"))\n",
        "print(validate_form(\"\"))\n"
      ],
      "metadata": {
        "colab": {
          "base_uri": "https://localhost:8080/"
        },
        "id": "WSWiqfD-gsfz",
        "outputId": "86e48700-06f4-4b9e-fa4b-727fd65cece0"
      },
      "execution_count": 35,
      "outputs": [
        {
          "output_type": "stream",
          "name": "stdout",
          "text": [
            "Welcome Aaqib\n",
            "Error: Name required\n"
          ]
        }
      ]
    },
    {
      "cell_type": "code",
      "source": [
        "# 8. How do you manage sessions in Flask?\n",
        "# Answer:\n",
        "# Simulate session as a Python dictionary\n",
        "\n",
        "session = {}\n",
        "\n",
        "def login():\n",
        "    session['user'] = 'aaqib'\n",
        "    return \"Logged In\"\n",
        "\n",
        "def check_user():\n",
        "    return session.get('user', 'Guest')\n",
        "\n",
        "print(login())\n",
        "print(\"User:\", check_user())\n"
      ],
      "metadata": {
        "colab": {
          "base_uri": "https://localhost:8080/"
        },
        "id": "LzOi-Rgrgx4f",
        "outputId": "6ec3571b-e2e6-47a3-d9b2-ebb93f52cb91"
      },
      "execution_count": 36,
      "outputs": [
        {
          "output_type": "stream",
          "name": "stdout",
          "text": [
            "Logged In\n",
            "User: aaqib\n"
          ]
        }
      ]
    },
    {
      "cell_type": "code",
      "source": [
        "# 9. How do you redirect to a different route in Flask?\n",
        "# Answer:\n",
        "# Simulate redirection using return statements\n",
        "\n",
        "def redirect_simulated(route):\n",
        "    return f\"Redirecting to {route}\"\n",
        "\n",
        "redirect_simulated(\"/home\")\n"
      ],
      "metadata": {
        "colab": {
          "base_uri": "https://localhost:8080/",
          "height": 35
        },
        "id": "fdGk_zIkgzIk",
        "outputId": "e464b239-8d5d-4695-93f2-17671adbf83b"
      },
      "execution_count": 37,
      "outputs": [
        {
          "output_type": "execute_result",
          "data": {
            "text/plain": [
              "'Redirecting to /home'"
            ],
            "application/vnd.google.colaboratory.intrinsic+json": {
              "type": "string"
            }
          },
          "metadata": {},
          "execution_count": 37
        }
      ]
    },
    {
      "cell_type": "code",
      "source": [
        "# 10. How do you handle errors in Flask (e.g., 404)?\n",
        "# Answer:\n",
        "# Simulate custom error response\n",
        "\n",
        "def error_handler(code):\n",
        "    if code == 404:\n",
        "        return \"404 Page Not Found\"\n",
        "    return \"Other Error\"\n",
        "\n",
        "error_handler(404)\n"
      ],
      "metadata": {
        "colab": {
          "base_uri": "https://localhost:8080/",
          "height": 35
        },
        "id": "eFcJ-CNQg4ch",
        "outputId": "d5ebedfc-d78a-47f5-d538-15009102938b"
      },
      "execution_count": 38,
      "outputs": [
        {
          "output_type": "execute_result",
          "data": {
            "text/plain": [
              "'404 Page Not Found'"
            ],
            "application/vnd.google.colaboratory.intrinsic+json": {
              "type": "string"
            }
          },
          "metadata": {},
          "execution_count": 38
        }
      ]
    },
    {
      "cell_type": "code",
      "source": [
        "# 11. How do you structure a Flask app using Blueprints?\n",
        "# Answer:\n",
        "# Simulation: Normally done in multiple files. Here we mock the concept.\n",
        "\n",
        "def blueprint_feature():\n",
        "    return \"Function from Blueprint\"\n",
        "\n",
        "blueprint_feature()\n"
      ],
      "metadata": {
        "colab": {
          "base_uri": "https://localhost:8080/",
          "height": 35
        },
        "id": "Bgx0YXvEg5cu",
        "outputId": "e1291798-ed11-43e3-a487-101ccc7d9d2e"
      },
      "execution_count": 39,
      "outputs": [
        {
          "output_type": "execute_result",
          "data": {
            "text/plain": [
              "'Function from Blueprint'"
            ],
            "application/vnd.google.colaboratory.intrinsic+json": {
              "type": "string"
            }
          },
          "metadata": {},
          "execution_count": 39
        }
      ]
    },
    {
      "cell_type": "code",
      "source": [
        "# 12. How do you define a custom Jinja filter in Flask?\n",
        "# Answer:\n",
        "# Simulate using Python function\n",
        "\n",
        "def reverse_filter(text):\n",
        "    return text[::-1]\n",
        "\n",
        "reverse_filter(\"Flask\")\n"
      ],
      "metadata": {
        "colab": {
          "base_uri": "https://localhost:8080/",
          "height": 35
        },
        "id": "N0g7bvJghAsm",
        "outputId": "c0bf7c5e-fa19-455c-b1b5-ee29de61cc00"
      },
      "execution_count": 40,
      "outputs": [
        {
          "output_type": "execute_result",
          "data": {
            "text/plain": [
              "'ksalF'"
            ],
            "application/vnd.google.colaboratory.intrinsic+json": {
              "type": "string"
            }
          },
          "metadata": {},
          "execution_count": 40
        }
      ]
    },
    {
      "cell_type": "code",
      "source": [
        "# 13. How can you redirect with query parameters in Flask?\n",
        "# Answer:\n",
        "# Simulate a URL with query parameters\n",
        "\n",
        "def generate_url(username, age):\n",
        "    return f\"/profile?username={username}&age={age}\"\n",
        "\n",
        "generate_url(\"Aaqib\", 25)\n"
      ],
      "metadata": {
        "colab": {
          "base_uri": "https://localhost:8080/",
          "height": 35
        },
        "id": "tq90U41vhDDN",
        "outputId": "eaf99481-1156-4655-8d17-f516d9b3ec2f"
      },
      "execution_count": 41,
      "outputs": [
        {
          "output_type": "execute_result",
          "data": {
            "text/plain": [
              "'/profile?username=Aaqib&age=25'"
            ],
            "application/vnd.google.colaboratory.intrinsic+json": {
              "type": "string"
            }
          },
          "metadata": {},
          "execution_count": 41
        }
      ]
    },
    {
      "cell_type": "code",
      "source": [
        "# 14. How do you return JSON responses in Flask?\n",
        "# Answer:\n",
        "# Simulate with Python dict\n",
        "\n",
        "import json\n",
        "\n",
        "def return_json():\n",
        "    data = {\"name\": \"Aaqib\", \"age\": 25}\n",
        "    return json.dumps(data)\n",
        "\n",
        "return_json()\n"
      ],
      "metadata": {
        "colab": {
          "base_uri": "https://localhost:8080/",
          "height": 35
        },
        "id": "53IApBSyhGj4",
        "outputId": "4c32db69-c0d0-44df-e318-6d9b9c240788"
      },
      "execution_count": 42,
      "outputs": [
        {
          "output_type": "execute_result",
          "data": {
            "text/plain": [
              "'{\"name\": \"Aaqib\", \"age\": 25}'"
            ],
            "application/vnd.google.colaboratory.intrinsic+json": {
              "type": "string"
            }
          },
          "metadata": {},
          "execution_count": 42
        }
      ]
    },
    {
      "cell_type": "code",
      "source": [
        "# 15. How do you capture URL parameters in Flask?\n",
        "# Answer:\n",
        "# Simulate the result of accessing a URL with a path param\n",
        "\n",
        "def profile(name):\n",
        "    return f\"Welcome {name}\"\n",
        "\n",
        "profile(\"Aaqib\")\n"
      ],
      "metadata": {
        "colab": {
          "base_uri": "https://localhost:8080/",
          "height": 35
        },
        "id": "_PXb5wJuhJ6a",
        "outputId": "00990b81-e027-43d7-a53a-b72cdcfa7cf1"
      },
      "execution_count": 43,
      "outputs": [
        {
          "output_type": "execute_result",
          "data": {
            "text/plain": [
              "'Welcome Aaqib'"
            ],
            "application/vnd.google.colaboratory.intrinsic+json": {
              "type": "string"
            }
          },
          "metadata": {},
          "execution_count": 43
        }
      ]
    }
  ]
}